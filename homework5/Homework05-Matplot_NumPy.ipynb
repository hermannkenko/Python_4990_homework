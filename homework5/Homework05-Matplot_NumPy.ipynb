{
 "cells": [
  {
   "cell_type": "markdown",
   "metadata": {},
   "source": [
    "# Homework #5 - MatPlot and NumPy\n",
    "\n",
    "\n",
    "\n",
    "#Part 1 Mat Plot Lib\n",
    "\n",
    "Using Matplotlib create the following graphs\n"
   ]
  },
  {
   "cell_type": "code",
   "execution_count": null,
   "metadata": {},
   "outputs": [],
   "source": [
    "import numpy as np\n",
    "import matplotlib.pyplot as plt\n",
    "from mpl_toolkits.mplot3d import Axes3D\n",
    "\n",
    "plt.figure(figsize=(10, 6))"
   ]
  },
  {
   "cell_type": "code",
   "execution_count": null,
   "metadata": {},
   "outputs": [],
   "source": [
    "#Histogram\n",
    "data = np.random.randn(1000)  # Generate 1000 random numbers\n",
    "plt.figure()\n",
    "plt.hist(data, bins=30, color='blue', edgecolor='black', alpha=0.7)\n",
    "plt.title(\"Histogram\")\n",
    "plt.xlabel(\"Value\")\n",
    "plt.ylabel(\"Frequency\")\n",
    "plt.grid(True)\n"
   ]
  },
  {
   "cell_type": "code",
   "execution_count": null,
   "metadata": {},
   "outputs": [],
   "source": [
    "#scatter plot\n",
    "x = np.random.rand(50)\n",
    "y = np.random.rand(50)\n",
    "plt.figure()\n",
    "plt.scatter(x, y, color='red', marker='o', alpha=0.5)\n",
    "plt.title(\"Scatter Plot\")\n",
    "plt.xlabel(\"X-axis\")\n",
    "plt.ylabel(\"Y-axis\")\n",
    "plt.grid(True)"
   ]
  },
  {
   "cell_type": "code",
   "execution_count": null,
   "metadata": {},
   "outputs": [],
   "source": [
    " #Line plot\n",
    "x = np.linspace(0, 10, 100)  # 100 points between 0 and 10\n",
    "y = np.sin(x)\n",
    "plt.figure()\n",
    "plt.plot(x, y, label=\"Sine Wave\", color='green', linewidth=2)\n",
    "plt.title(\"Line Plot\")\n",
    "plt.xlabel(\"X-axis\")\n",
    "plt.ylabel(\"Y-axis\")\n",
    "plt.legend()\n",
    "plt.grid(True)"
   ]
  },
  {
   "cell_type": "code",
   "execution_count": null,
   "metadata": {},
   "outputs": [],
   "source": [
    "#Pie chart\n",
    "labels = ['Apples', 'Bananas', 'Cherries', 'Dates']\n",
    "sizes = [25, 35, 20, 20]\n",
    "colors = ['red', 'yellow', 'pink', 'brown']\n",
    "plt.figure()\n",
    "plt.pie(sizes, labels=labels, autopct='%1.1f%%', colors=colors, startangle=140)\n",
    "plt.title(\"Pie Chart\")"
   ]
  },
  {
   "cell_type": "code",
   "execution_count": null,
   "metadata": {},
   "outputs": [],
   "source": [
    "#Area plot\n",
    "x = np.arange(1, 11)\n",
    "y1 = np.array([1, 3, 5, 7, 9, 11, 13, 15, 17, 19])\n",
    "y2 = np.array([2, 4, 6, 8, 10, 12, 14, 16, 18, 20])\n",
    "plt.figure()\n",
    "plt.fill_between(x, y1, color=\"skyblue\", alpha=0.5, label=\"Series 1\")\n",
    "plt.fill_between(x, y2, color=\"orange\", alpha=0.5, label=\"Series 2\")\n",
    "plt.title(\"Area Plot\")\n",
    "plt.xlabel(\"X-axis\")\n",
    "plt.ylabel(\"Y-axis\")\n",
    "plt.legend()\n",
    "plt.grid(True)"
   ]
  },
  {
   "cell_type": "code",
   "execution_count": null,
   "metadata": {},
   "outputs": [],
   "source": [
    "#3D plot\n",
    "fig = plt.figure()\n",
    "ax = fig.add_subplot(111, projection='3d')\n",
    "x = np.linspace(-5, 5, 50)\n",
    "y = np.linspace(-5, 5, 50)\n",
    "X, Y = np.meshgrid(x, y)\n",
    "Z = np.sin(np.sqrt(X**2 + Y**2))\n",
    "ax.plot_surface(X, Y, Z, cmap='viridis')\n",
    "ax.set_title(\"3D Surface Plot\")"
   ]
  },
  {
   "cell_type": "code",
   "execution_count": null,
   "metadata": {},
   "outputs": [],
   "source": [
    "#3D Bar plot\n",
    "fig = plt.figure()\n",
    "ax = fig.add_subplot(111, projection='3d')\n",
    "x = np.arange(5)\n",
    "y = np.arange(5)\n",
    "X, Y = np.meshgrid(x, y)\n",
    "Z = np.random.randint(1, 10, size=(5,5))  # Random heights\n",
    "\n",
    "for i in range(len(x)):\n",
    "    for j in range(len(y)):\n",
    "        ax.bar3d(x[i], y[j], 0, 0.5, 0.5, Z[i, j], color='cyan')\n",
    "\n",
    "ax.set_title(\"3D Bar Plot\")"
   ]
  },
  {
   "cell_type": "code",
   "execution_count": null,
   "metadata": {},
   "outputs": [],
   "source": [
    "#Show all plots\n",
    "plt.show()"
   ]
  }
 ],
 "metadata": {
  "language_info": {
   "name": "python"
  }
 },
 "nbformat": 4,
 "nbformat_minor": 2
}
