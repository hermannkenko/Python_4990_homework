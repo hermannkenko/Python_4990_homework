{
 "cells": [
  {
   "cell_type": "markdown",
   "metadata": {},
   "source": [
    "Hermann Kenko tanfoudie"
   ]
  },
  {
   "cell_type": "markdown",
   "metadata": {},
   "source": [
    "## Objective:\n",
    "The objective of this assignment is to practice using Functional Programing.\n",
    "\n",
    "## Instructions:\n",
    "\n",
    "Using everything we learned to day about Functional Programing, lambda and itters create one of each of the following:\n",
    "-  Basic Lambda Function\n",
    "    - Create a lambda function that takes one arguments and returns even or odd.\n",
    "- Advanced lambda Function\n",
    "    - Create a lambda function that takes a list and returns their sum \n",
    "- Sorting with Lambda\n",
    "- Filtering with Lambda - `filter()` \n",
    "- Mapping with Lambda - `map()`\n",
    "- Reducing with Lambda -  `reduce()` \n",
    "- Enumerate with or without Lambda - `enumerate()`\n",
    "- zip with or without lambda (may combine enumerate like in class) - `zip()`\n",
    "\n",
    "Submit the file as a .py \n",
    "\n",
    "\n"
   ]
  },
  {
   "cell_type": "code",
   "execution_count": 1,
   "metadata": {},
   "outputs": [
    {
     "name": "stdout",
     "output_type": "stream",
     "text": [
      "Odd\n",
      "Even\n",
      "15\n",
      "[(3, 2), (2, 3), (1, 5), (4, 8)]\n",
      "[2, 4, 6, 8]\n",
      "[1, 4, 9, 16, 25, 36, 49, 64]\n",
      "40320\n",
      "[(1, 1), (2, 2), (3, 3), (4, 4), (5, 5), (6, 6), (7, 7), (8, 8)]\n",
      "[('Alice', 25), ('Bob', 30), ('Charlie', 35)]\n"
     ]
    }
   ],
   "source": [
    "from functools import reduce\n",
    "\n",
    "# 1. Basic Lambda Function: Check if a number is even or odd\n",
    "even_or_odd = lambda x: \"Even\" if x % 2 == 0 else \"Odd\"\n",
    "print(even_or_odd(5))  # Output: Odd\n",
    "print(even_or_odd(8))  # Output: Even\n",
    "\n",
    "# 2. Advanced Lambda Function: Sum of a list\n",
    "sum_list = lambda numbers: sum(numbers)\n",
    "print(sum_list([1, 2, 3, 4, 5]))  # Output: 15\n",
    "\n",
    "# 3. Sorting with Lambda: Sort a list of tuples by second element\n",
    "pairs = [(1, 5), (3, 2), (4, 8), (2, 3)]\n",
    "sorted_pairs = sorted(pairs, key=lambda x: x[1])\n",
    "print(sorted_pairs)  # Output: [(3, 2), (2, 3), (1, 5), (4, 8)]\n",
    "\n",
    "# 4. Filtering with Lambda: Get even numbers using `filter()`\n",
    "numbers = [1, 2, 3, 4, 5, 6, 7, 8]\n",
    "even_numbers = list(filter(lambda x: x % 2 == 0, numbers))\n",
    "print(even_numbers)  # Output: [2, 4, 6, 8]\n",
    "\n",
    "# 5. Mapping with Lambda: Square each number using `map()`\n",
    "squared_numbers = list(map(lambda x: x ** 2, numbers))\n",
    "print(squared_numbers)  # Output: [1, 4, 9, 16, 25, 36, 49, 64]\n",
    "\n",
    "# 6. Reducing with Lambda: Get the product of all numbers using `reduce()`\n",
    "product = reduce(lambda x, y: x * y, numbers)\n",
    "print(product)  # Output: 40320 (1*2*3*4*5*6*7*8)\n",
    "\n",
    "# 7. Enumerate with Lambda: Create index-value pairs\n",
    "indexed_numbers = list(enumerate(numbers, start=1))\n",
    "print(indexed_numbers)  # Output: [(1, 1), (2, 2), (3, 3), ..., (8, 8)]\n",
    "\n",
    "# 8. Zip with or without Lambda: Combine two lists into pairs\n",
    "names = [\"Alice\", \"Bob\", \"Charlie\"]\n",
    "ages = [25, 30, 35]\n",
    "combined = list(zip(names, ages))\n",
    "print(combined)  # Output: [('Alice', 25), ('Bob', 30), ('Charlie', 35)]\n"
   ]
  }
 ],
 "metadata": {
  "kernelspec": {
   "display_name": "base",
   "language": "python",
   "name": "python3"
  },
  "language_info": {
   "codemirror_mode": {
    "name": "ipython",
    "version": 3
   },
   "file_extension": ".py",
   "mimetype": "text/x-python",
   "name": "python",
   "nbconvert_exporter": "python",
   "pygments_lexer": "ipython3",
   "version": "3.12.7"
  }
 },
 "nbformat": 4,
 "nbformat_minor": 2
}
